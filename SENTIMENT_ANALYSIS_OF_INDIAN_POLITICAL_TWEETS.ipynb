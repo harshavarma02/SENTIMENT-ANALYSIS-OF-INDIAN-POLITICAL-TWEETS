{
  "metadata": {
    "kernelspec": {
      "language": "python",
      "display_name": "Python 3",
      "name": "python3"
    },
    "language_info": {
      "name": "python",
      "version": "3.7.12",
      "mimetype": "text/x-python",
      "codemirror_mode": {
        "name": "ipython",
        "version": 3
      },
      "pygments_lexer": "ipython3",
      "nbconvert_exporter": "python",
      "file_extension": ".py"
    },
    "colab": {
      "provenance": [],
      "include_colab_link": true
    }
  },
  "nbformat_minor": 0,
  "nbformat": 4,
  "cells": [
    {
      "cell_type": "markdown",
      "metadata": {
        "id": "view-in-github",
        "colab_type": "text"
      },
      "source": [
        "<a href=\"https://colab.research.google.com/github/harshavarma02/SENTIMENT-ANALYSIS-OF-INDIAN-POLITICAL-TWEETS/blob/main/SENTIMENT_ANALYSIS_OF_INDIAN_POLITICAL_TWEETS.ipynb\" target=\"_parent\"><img src=\"https://colab.research.google.com/assets/colab-badge.svg\" alt=\"Open In Colab\"/></a>"
      ]
    },
    {
      "cell_type": "markdown",
      "source": [
        "# **SENTIMENT ANALYSIS OF INDIAN POLITICAL TWEETS**\n",
        "\n",
        "\n",
        "\n",
        " 📋Table of Contents\n",
        "* Installing Necessary Libraries\n",
        "* Loading the Dataset\n",
        "* Dataset Checking to perform\n",
        "* Data Preprocessing\n",
        "* Sentiment Analysis\n"
      ],
      "metadata": {
        "id": "YvAtx_oNb8mm"
      }
    },
    {
      "cell_type": "markdown",
      "source": [
        "<a id=\"section-one\"></a>\n",
        "# 🛠️Installing Necessary Libraries"
      ],
      "metadata": {
        "id": "U7Wa1Q6Mb8mq"
      }
    },
    {
      "cell_type": "code",
      "source": [
        "!pip install better-profanity\n",
        "!pip install textblob"
      ],
      "metadata": {
        "execution": {
          "iopub.status.busy": "2023-03-30T19:23:00.843422Z",
          "iopub.execute_input": "2023-03-30T19:23:00.843795Z",
          "iopub.status.idle": "2023-03-30T19:23:18.553887Z",
          "shell.execute_reply.started": "2023-03-30T19:23:00.843763Z",
          "shell.execute_reply": "2023-03-30T19:23:18.552514Z"
        },
        "trusted": true,
        "id": "Cf-Iqvkdb8ms",
        "outputId": "316b7c14-23ba-43fa-aa78-b536c5aba9bc",
        "colab": {
          "base_uri": "https://localhost:8080/"
        }
      },
      "execution_count": 1,
      "outputs": [
        {
          "output_type": "stream",
          "name": "stdout",
          "text": [
            "Collecting better-profanity\n",
            "  Downloading better_profanity-0.7.0-py3-none-any.whl.metadata (7.1 kB)\n",
            "Downloading better_profanity-0.7.0-py3-none-any.whl (46 kB)\n",
            "\u001b[?25l   \u001b[90m━━━━━━━━━━━━━━━━━━━━━━━━━━━━━━━━━━━━━━━━\u001b[0m \u001b[32m0.0/46.1 kB\u001b[0m \u001b[31m?\u001b[0m eta \u001b[36m-:--:--\u001b[0m\r\u001b[2K   \u001b[90m━━━━━━━━━━━━━━━━━━━━━━━━━━━━━━━━━━━━━━━━\u001b[0m \u001b[32m46.1/46.1 kB\u001b[0m \u001b[31m2.3 MB/s\u001b[0m eta \u001b[36m0:00:00\u001b[0m\n",
            "\u001b[?25hInstalling collected packages: better-profanity\n",
            "Successfully installed better-profanity-0.7.0\n",
            "Requirement already satisfied: textblob in /usr/local/lib/python3.10/dist-packages (0.17.1)\n",
            "Requirement already satisfied: nltk>=3.1 in /usr/local/lib/python3.10/dist-packages (from textblob) (3.9.1)\n",
            "Requirement already satisfied: click in /usr/local/lib/python3.10/dist-packages (from nltk>=3.1->textblob) (8.1.7)\n",
            "Requirement already satisfied: joblib in /usr/local/lib/python3.10/dist-packages (from nltk>=3.1->textblob) (1.4.2)\n",
            "Requirement already satisfied: regex>=2021.8.3 in /usr/local/lib/python3.10/dist-packages (from nltk>=3.1->textblob) (2024.9.11)\n",
            "Requirement already satisfied: tqdm in /usr/local/lib/python3.10/dist-packages (from nltk>=3.1->textblob) (4.66.6)\n"
          ]
        }
      ]
    },
    {
      "cell_type": "code",
      "source": [
        "# Import Basic Libraries\n",
        "import re\n",
        "import os\n",
        "import pandas as pd\n",
        "import numpy as np\n",
        "from datetime import datetime\n",
        "\n",
        "from better_profanity import profanity\n",
        "from textblob import TextBlob\n",
        "\n",
        "# Import Visualization Libraries\n",
        "import plotly.express as px\n",
        "import plotly.graph_objs as go\n",
        "from wordcloud import WordCloud\n",
        "import matplotlib.pyplot as plt\n",
        "\n",
        "# Import NLP Libraries\n",
        "import nltk\n",
        "from nltk.corpus import stopwords\n",
        "\n",
        "# downloading stopwords\n",
        "nltk.download('stopwords')\n",
        "\n",
        "# Remove distarcting warning\n",
        "import warnings\n",
        "warnings.filterwarnings('ignore')"
      ],
      "metadata": {
        "colab": {
          "base_uri": "https://localhost:8080/"
        },
        "id": "OkQHqxCNefDu",
        "outputId": "6bf1f97f-47f6-46c9-9943-3a29d5791614"
      },
      "execution_count": 8,
      "outputs": [
        {
          "output_type": "stream",
          "name": "stderr",
          "text": [
            "[nltk_data] Downloading package stopwords to /root/nltk_data...\n",
            "[nltk_data]   Unzipping corpora/stopwords.zip.\n"
          ]
        }
      ]
    },
    {
      "cell_type": "markdown",
      "source": [
        "<a id=\"section-three\"></a>\n",
        "# 📋Loading the Dataset"
      ],
      "metadata": {
        "id": "gSDgdNmPb8my"
      }
    },
    {
      "cell_type": "code",
      "source": [
        "# Define the path to your CSV file\n",
        "tweets_data_path = '/content/tweets.csv'\n",
        "\n",
        "# Read the CSV file into a DataFrame\n",
        "df = pd.read_csv(tweets_data_path)\n",
        "\n",
        "# Print the shape of the DataFrame\n",
        "print(\"Data Shape is:\", df.shape)\n",
        "\n",
        "# Show the top 10 records\n",
        "print(\"\\nShow Top 10 Records\")\n",
        "print(df.head(10))"
      ],
      "metadata": {
        "execution": {
          "iopub.status.busy": "2023-03-30T19:23:18.565133Z",
          "iopub.execute_input": "2023-03-30T19:23:18.565372Z",
          "iopub.status.idle": "2023-03-30T19:23:18.786194Z",
          "shell.execute_reply.started": "2023-03-30T19:23:18.565348Z",
          "shell.execute_reply": "2023-03-30T19:23:18.785405Z"
        },
        "trusted": true,
        "id": "l63P9bSDb8mz",
        "outputId": "debcffa9-55d8-4e29-881c-30535704c46d",
        "colab": {
          "base_uri": "https://localhost:8080/"
        }
      },
      "execution_count": 9,
      "outputs": [
        {
          "output_type": "stream",
          "name": "stdout",
          "text": [
            "Data Shape is: (50001, 6)\n",
            "\n",
            "Show Top 10 Records\n",
            "  Unnamed: 0                       Date             User  \\\n",
            "0          0  2023-03-29 15:42:36+00:00      AnandPatni8   \n",
            "1          1  2023-03-29 15:42:05+00:00         dhinamum   \n",
            "2          2  2023-03-29 15:34:29+00:00     PrincetonCGI   \n",
            "3          3  2023-03-29 15:31:43+00:00     RishiJoeSanu   \n",
            "4          4  2023-03-29 15:26:48+00:00     itweetsensee   \n",
            "5          5  2023-03-29 15:21:29+00:00  FreeMindKeenEye   \n",
            "6          6  2023-03-29 15:20:41+00:00     SamsSamsson6   \n",
            "7          7  2023-03-29 15:20:16+00:00     SamsSamsson6   \n",
            "8          8  2023-03-29 15:19:44+00:00     SamsSamsson6   \n",
            "9          9  2023-03-29 15:19:32+00:00       ncsukumar1   \n",
            "\n",
            "                                               Tweet  Likes  Retweets  \n",
            "0  @vinodkapri @RahulGandhi Respected Indian Citi...    0.0       0.0  \n",
            "1  *Respected Indian Citizens,* Namaskaar I Am Th...    0.0       0.0  \n",
            "2  1/n-Meet Filmmaker Prakash Jha in New Jersey t...    0.0       0.0  \n",
            "3  @MrinalWahal Why would politicians stop using ...    0.0       0.0  \n",
            "4  @annamalai_k @narendramodi A state level presi...    0.0       0.0  \n",
            "5  @IAMCouncil @POTUS @Ilhan @bridgeinit OK this ...    0.0       0.0  \n",
            "6  @darrengrimes_ Why are pakistani /indian dual ...    0.0       0.0  \n",
            "7  @PeterStefanovi2 Why are pakistani /indian dua...    0.0       0.0  \n",
            "8  Why are pakistani /indian dual nationals allow...    0.0       0.0  \n",
            "9  @BesuraTaansane @KartiPC @PChidambaram_IN The ...    0.0       0.0  \n"
          ]
        }
      ]
    },
    {
      "cell_type": "markdown",
      "source": [
        "<a id=\"section-four\"></a>\n",
        "# ✔ Dataset Checking to perform"
      ],
      "metadata": {
        "id": "hsZDiE1fb8m0"
      }
    },
    {
      "cell_type": "code",
      "source": [
        "#Checking Missing Values\n",
        "\n",
        "df.isna().sum()"
      ],
      "metadata": {
        "execution": {
          "iopub.status.busy": "2023-03-30T19:23:18.788359Z",
          "iopub.execute_input": "2023-03-30T19:23:18.788655Z",
          "iopub.status.idle": "2023-03-30T19:23:18.811566Z",
          "shell.execute_reply.started": "2023-03-30T19:23:18.788628Z",
          "shell.execute_reply": "2023-03-30T19:23:18.81027Z"
        },
        "trusted": true,
        "id": "sfQL2dU7b8m1",
        "outputId": "12c32336-1547-4a4b-b107-1d3437bec742",
        "colab": {
          "base_uri": "https://localhost:8080/",
          "height": 272
        }
      },
      "execution_count": 10,
      "outputs": [
        {
          "output_type": "execute_result",
          "data": {
            "text/plain": [
              "Unnamed: 0    0\n",
              "Date          0\n",
              "User          0\n",
              "Tweet         1\n",
              "Likes         2\n",
              "Retweets      2\n",
              "dtype: int64"
            ],
            "text/html": [
              "<div>\n",
              "<style scoped>\n",
              "    .dataframe tbody tr th:only-of-type {\n",
              "        vertical-align: middle;\n",
              "    }\n",
              "\n",
              "    .dataframe tbody tr th {\n",
              "        vertical-align: top;\n",
              "    }\n",
              "\n",
              "    .dataframe thead th {\n",
              "        text-align: right;\n",
              "    }\n",
              "</style>\n",
              "<table border=\"1\" class=\"dataframe\">\n",
              "  <thead>\n",
              "    <tr style=\"text-align: right;\">\n",
              "      <th></th>\n",
              "      <th>0</th>\n",
              "    </tr>\n",
              "  </thead>\n",
              "  <tbody>\n",
              "    <tr>\n",
              "      <th>Unnamed: 0</th>\n",
              "      <td>0</td>\n",
              "    </tr>\n",
              "    <tr>\n",
              "      <th>Date</th>\n",
              "      <td>0</td>\n",
              "    </tr>\n",
              "    <tr>\n",
              "      <th>User</th>\n",
              "      <td>0</td>\n",
              "    </tr>\n",
              "    <tr>\n",
              "      <th>Tweet</th>\n",
              "      <td>1</td>\n",
              "    </tr>\n",
              "    <tr>\n",
              "      <th>Likes</th>\n",
              "      <td>2</td>\n",
              "    </tr>\n",
              "    <tr>\n",
              "      <th>Retweets</th>\n",
              "      <td>2</td>\n",
              "    </tr>\n",
              "  </tbody>\n",
              "</table>\n",
              "</div><br><label><b>dtype:</b> int64</label>"
            ]
          },
          "metadata": {},
          "execution_count": 10
        }
      ]
    },
    {
      "cell_type": "code",
      "source": [
        "#Drop NA Value\n",
        "df.dropna(inplace=True)"
      ],
      "metadata": {
        "execution": {
          "iopub.status.busy": "2023-03-30T19:23:18.812821Z",
          "iopub.execute_input": "2023-03-30T19:23:18.813107Z",
          "iopub.status.idle": "2023-03-30T19:23:18.837915Z",
          "shell.execute_reply.started": "2023-03-30T19:23:18.813059Z",
          "shell.execute_reply": "2023-03-30T19:23:18.836627Z"
        },
        "trusted": true,
        "id": "lbHfCt90b8m1"
      },
      "execution_count": 11,
      "outputs": []
    },
    {
      "cell_type": "code",
      "source": [
        "#Checking Duplicates\n",
        "df.duplicated().sum()"
      ],
      "metadata": {
        "execution": {
          "iopub.status.busy": "2023-03-30T19:23:18.839384Z",
          "iopub.execute_input": "2023-03-30T19:23:18.839875Z",
          "iopub.status.idle": "2023-03-30T19:23:18.923195Z",
          "shell.execute_reply.started": "2023-03-30T19:23:18.839845Z",
          "shell.execute_reply": "2023-03-30T19:23:18.922128Z"
        },
        "trusted": true,
        "id": "ppkjCTOtb8m2",
        "outputId": "5ebe8874-30b8-40e1-8b43-ee0797d91f54",
        "colab": {
          "base_uri": "https://localhost:8080/"
        }
      },
      "execution_count": 12,
      "outputs": [
        {
          "output_type": "execute_result",
          "data": {
            "text/plain": [
              "0"
            ]
          },
          "metadata": {},
          "execution_count": 12
        }
      ]
    },
    {
      "cell_type": "code",
      "source": [
        "#Checking Data Types\n",
        "df.info()"
      ],
      "metadata": {
        "execution": {
          "iopub.status.busy": "2023-03-30T19:23:18.924554Z",
          "iopub.execute_input": "2023-03-30T19:23:18.92491Z",
          "iopub.status.idle": "2023-03-30T19:23:18.950679Z",
          "shell.execute_reply.started": "2023-03-30T19:23:18.924876Z",
          "shell.execute_reply": "2023-03-30T19:23:18.949435Z"
        },
        "trusted": true,
        "id": "2EOMwMMmb8m2",
        "outputId": "bf75027b-9a18-4ba2-c61b-dc4d8fd97e88",
        "colab": {
          "base_uri": "https://localhost:8080/"
        }
      },
      "execution_count": 13,
      "outputs": [
        {
          "output_type": "stream",
          "name": "stdout",
          "text": [
            "<class 'pandas.core.frame.DataFrame'>\n",
            "Index: 49999 entries, 0 to 50000\n",
            "Data columns (total 6 columns):\n",
            " #   Column      Non-Null Count  Dtype  \n",
            "---  ------      --------------  -----  \n",
            " 0   Unnamed: 0  49999 non-null  object \n",
            " 1   Date        49999 non-null  object \n",
            " 2   User        49999 non-null  object \n",
            " 3   Tweet       49999 non-null  object \n",
            " 4   Likes       49999 non-null  float64\n",
            " 5   Retweets    49999 non-null  float64\n",
            "dtypes: float64(2), object(4)\n",
            "memory usage: 2.7+ MB\n"
          ]
        }
      ]
    },
    {
      "cell_type": "code",
      "source": [
        "#Checking the number of unique values of each column\n",
        "df.nunique()"
      ],
      "metadata": {
        "execution": {
          "iopub.status.busy": "2023-03-30T19:23:18.95258Z",
          "iopub.execute_input": "2023-03-30T19:23:18.952961Z",
          "iopub.status.idle": "2023-03-30T19:23:19.03338Z",
          "shell.execute_reply.started": "2023-03-30T19:23:18.952923Z",
          "shell.execute_reply": "2023-03-30T19:23:19.032122Z"
        },
        "trusted": true,
        "id": "91GIy_R_b8m3",
        "outputId": "97ab2f85-42fd-482b-c22e-f397d1aafa47",
        "colab": {
          "base_uri": "https://localhost:8080/",
          "height": 272
        }
      },
      "execution_count": 14,
      "outputs": [
        {
          "output_type": "execute_result",
          "data": {
            "text/plain": [
              "Unnamed: 0    49999\n",
              "Date          49820\n",
              "User          35108\n",
              "Tweet         49568\n",
              "Likes           598\n",
              "Retweets        312\n",
              "dtype: int64"
            ],
            "text/html": [
              "<div>\n",
              "<style scoped>\n",
              "    .dataframe tbody tr th:only-of-type {\n",
              "        vertical-align: middle;\n",
              "    }\n",
              "\n",
              "    .dataframe tbody tr th {\n",
              "        vertical-align: top;\n",
              "    }\n",
              "\n",
              "    .dataframe thead th {\n",
              "        text-align: right;\n",
              "    }\n",
              "</style>\n",
              "<table border=\"1\" class=\"dataframe\">\n",
              "  <thead>\n",
              "    <tr style=\"text-align: right;\">\n",
              "      <th></th>\n",
              "      <th>0</th>\n",
              "    </tr>\n",
              "  </thead>\n",
              "  <tbody>\n",
              "    <tr>\n",
              "      <th>Unnamed: 0</th>\n",
              "      <td>49999</td>\n",
              "    </tr>\n",
              "    <tr>\n",
              "      <th>Date</th>\n",
              "      <td>49820</td>\n",
              "    </tr>\n",
              "    <tr>\n",
              "      <th>User</th>\n",
              "      <td>35108</td>\n",
              "    </tr>\n",
              "    <tr>\n",
              "      <th>Tweet</th>\n",
              "      <td>49568</td>\n",
              "    </tr>\n",
              "    <tr>\n",
              "      <th>Likes</th>\n",
              "      <td>598</td>\n",
              "    </tr>\n",
              "    <tr>\n",
              "      <th>Retweets</th>\n",
              "      <td>312</td>\n",
              "    </tr>\n",
              "  </tbody>\n",
              "</table>\n",
              "</div><br><label><b>dtype:</b> int64</label>"
            ]
          },
          "metadata": {},
          "execution_count": 14
        }
      ]
    },
    {
      "cell_type": "code",
      "source": [
        "#Print numerical and categorical columns\n",
        "numeric_columns = [column for column in df.columns if df[column].dtype != 'O']\n",
        "categorical_columns = [column for column in df.columns if df[column].dtype == 'O']\n",
        "\n",
        "# print columns\n",
        "print('We have {} numerical columns(features) : {}'.format(len(numeric_columns), numeric_columns))\n",
        "print('\\nWe have {} categorical columns(features) : {}'.format(len(categorical_columns), categorical_columns))"
      ],
      "metadata": {
        "execution": {
          "iopub.status.busy": "2023-03-30T19:23:19.034908Z",
          "iopub.execute_input": "2023-03-30T19:23:19.035807Z",
          "iopub.status.idle": "2023-03-30T19:23:19.043567Z",
          "shell.execute_reply.started": "2023-03-30T19:23:19.035769Z",
          "shell.execute_reply": "2023-03-30T19:23:19.042332Z"
        },
        "trusted": true,
        "id": "-IOq4CsUb8m3",
        "outputId": "f45b8813-da9e-4ea4-e846-8e95dbdfdb16",
        "colab": {
          "base_uri": "https://localhost:8080/"
        }
      },
      "execution_count": 15,
      "outputs": [
        {
          "output_type": "stream",
          "name": "stdout",
          "text": [
            "We have 2 numerical columns(features) : ['Likes', 'Retweets']\n",
            "\n",
            "We have 4 categorical columns(features) : ['Unnamed: 0', 'Date', 'User', 'Tweet']\n"
          ]
        }
      ]
    },
    {
      "cell_type": "markdown",
      "source": [
        "<a id=\"section-five\"></a>\n",
        "# 🏗️Data Preprocessing"
      ],
      "metadata": {
        "id": "7F47CYohb8m4"
      }
    },
    {
      "cell_type": "code",
      "source": [
        "df['Original_Tweet']=df['Tweet']\n",
        "df['DateTime'] = df['Date']\n",
        "df = df.drop('Date', axis=1)\n",
        "df['DateTime'] = df['DateTime'].astype(str).apply(lambda x: x.split('+')[0])\n",
        "# convert the 'DateTime' column to datetime format and replace invalid values with a default datetime\n",
        "df['DateTime'] = pd.to_datetime(df['DateTime'], errors='coerce', format='%Y-%m-%d %H:%M:%S').fillna(pd.Timestamp('1900-01-01'))\n",
        "\n",
        "df['date'] = df.DateTime.apply(lambda x: x.date())\n",
        "df['month'] = df.DateTime.apply(lambda x: x.month)\n",
        "df['year'] = df.DateTime.apply(lambda x: x.year)\n",
        "df['hour'] = df.DateTime.apply(lambda x: x.hour)\n",
        "df.head()"
      ],
      "metadata": {
        "execution": {
          "iopub.status.busy": "2023-03-30T19:23:19.047413Z",
          "iopub.execute_input": "2023-03-30T19:23:19.04821Z",
          "iopub.status.idle": "2023-03-30T19:23:19.985977Z",
          "shell.execute_reply.started": "2023-03-30T19:23:19.048152Z",
          "shell.execute_reply": "2023-03-30T19:23:19.985033Z"
        },
        "trusted": true,
        "id": "8AIDxlhYb8m4",
        "outputId": "f8a36c08-d55b-4c70-d9ce-7c1e448af031",
        "colab": {
          "base_uri": "https://localhost:8080/",
          "height": 521
        }
      },
      "execution_count": 16,
      "outputs": [
        {
          "output_type": "execute_result",
          "data": {
            "text/plain": [
              "  Unnamed: 0          User                                              Tweet  \\\n",
              "0          0   AnandPatni8  @vinodkapri @RahulGandhi Respected Indian Citi...   \n",
              "1          1      dhinamum  *Respected Indian Citizens,* Namaskaar I Am Th...   \n",
              "2          2  PrincetonCGI  1/n-Meet Filmmaker Prakash Jha in New Jersey t...   \n",
              "3          3  RishiJoeSanu  @MrinalWahal Why would politicians stop using ...   \n",
              "4          4  itweetsensee  @annamalai_k @narendramodi A state level presi...   \n",
              "\n",
              "   Likes  Retweets                                     Original_Tweet  \\\n",
              "0    0.0       0.0  @vinodkapri @RahulGandhi Respected Indian Citi...   \n",
              "1    0.0       0.0  *Respected Indian Citizens,* Namaskaar I Am Th...   \n",
              "2    0.0       0.0  1/n-Meet Filmmaker Prakash Jha in New Jersey t...   \n",
              "3    0.0       0.0  @MrinalWahal Why would politicians stop using ...   \n",
              "4    0.0       0.0  @annamalai_k @narendramodi A state level presi...   \n",
              "\n",
              "             DateTime        date  month  year  hour  \n",
              "0 2023-03-29 15:42:36  2023-03-29      3  2023    15  \n",
              "1 2023-03-29 15:42:05  2023-03-29      3  2023    15  \n",
              "2 2023-03-29 15:34:29  2023-03-29      3  2023    15  \n",
              "3 2023-03-29 15:31:43  2023-03-29      3  2023    15  \n",
              "4 2023-03-29 15:26:48  2023-03-29      3  2023    15  "
            ],
            "text/html": [
              "\n",
              "  <div id=\"df-66b46e4d-f834-4112-a7c8-dc9f949007bd\" class=\"colab-df-container\">\n",
              "    <div>\n",
              "<style scoped>\n",
              "    .dataframe tbody tr th:only-of-type {\n",
              "        vertical-align: middle;\n",
              "    }\n",
              "\n",
              "    .dataframe tbody tr th {\n",
              "        vertical-align: top;\n",
              "    }\n",
              "\n",
              "    .dataframe thead th {\n",
              "        text-align: right;\n",
              "    }\n",
              "</style>\n",
              "<table border=\"1\" class=\"dataframe\">\n",
              "  <thead>\n",
              "    <tr style=\"text-align: right;\">\n",
              "      <th></th>\n",
              "      <th>Unnamed: 0</th>\n",
              "      <th>User</th>\n",
              "      <th>Tweet</th>\n",
              "      <th>Likes</th>\n",
              "      <th>Retweets</th>\n",
              "      <th>Original_Tweet</th>\n",
              "      <th>DateTime</th>\n",
              "      <th>date</th>\n",
              "      <th>month</th>\n",
              "      <th>year</th>\n",
              "      <th>hour</th>\n",
              "    </tr>\n",
              "  </thead>\n",
              "  <tbody>\n",
              "    <tr>\n",
              "      <th>0</th>\n",
              "      <td>0</td>\n",
              "      <td>AnandPatni8</td>\n",
              "      <td>@vinodkapri @RahulGandhi Respected Indian Citi...</td>\n",
              "      <td>0.0</td>\n",
              "      <td>0.0</td>\n",
              "      <td>@vinodkapri @RahulGandhi Respected Indian Citi...</td>\n",
              "      <td>2023-03-29 15:42:36</td>\n",
              "      <td>2023-03-29</td>\n",
              "      <td>3</td>\n",
              "      <td>2023</td>\n",
              "      <td>15</td>\n",
              "    </tr>\n",
              "    <tr>\n",
              "      <th>1</th>\n",
              "      <td>1</td>\n",
              "      <td>dhinamum</td>\n",
              "      <td>*Respected Indian Citizens,* Namaskaar I Am Th...</td>\n",
              "      <td>0.0</td>\n",
              "      <td>0.0</td>\n",
              "      <td>*Respected Indian Citizens,* Namaskaar I Am Th...</td>\n",
              "      <td>2023-03-29 15:42:05</td>\n",
              "      <td>2023-03-29</td>\n",
              "      <td>3</td>\n",
              "      <td>2023</td>\n",
              "      <td>15</td>\n",
              "    </tr>\n",
              "    <tr>\n",
              "      <th>2</th>\n",
              "      <td>2</td>\n",
              "      <td>PrincetonCGI</td>\n",
              "      <td>1/n-Meet Filmmaker Prakash Jha in New Jersey t...</td>\n",
              "      <td>0.0</td>\n",
              "      <td>0.0</td>\n",
              "      <td>1/n-Meet Filmmaker Prakash Jha in New Jersey t...</td>\n",
              "      <td>2023-03-29 15:34:29</td>\n",
              "      <td>2023-03-29</td>\n",
              "      <td>3</td>\n",
              "      <td>2023</td>\n",
              "      <td>15</td>\n",
              "    </tr>\n",
              "    <tr>\n",
              "      <th>3</th>\n",
              "      <td>3</td>\n",
              "      <td>RishiJoeSanu</td>\n",
              "      <td>@MrinalWahal Why would politicians stop using ...</td>\n",
              "      <td>0.0</td>\n",
              "      <td>0.0</td>\n",
              "      <td>@MrinalWahal Why would politicians stop using ...</td>\n",
              "      <td>2023-03-29 15:31:43</td>\n",
              "      <td>2023-03-29</td>\n",
              "      <td>3</td>\n",
              "      <td>2023</td>\n",
              "      <td>15</td>\n",
              "    </tr>\n",
              "    <tr>\n",
              "      <th>4</th>\n",
              "      <td>4</td>\n",
              "      <td>itweetsensee</td>\n",
              "      <td>@annamalai_k @narendramodi A state level presi...</td>\n",
              "      <td>0.0</td>\n",
              "      <td>0.0</td>\n",
              "      <td>@annamalai_k @narendramodi A state level presi...</td>\n",
              "      <td>2023-03-29 15:26:48</td>\n",
              "      <td>2023-03-29</td>\n",
              "      <td>3</td>\n",
              "      <td>2023</td>\n",
              "      <td>15</td>\n",
              "    </tr>\n",
              "  </tbody>\n",
              "</table>\n",
              "</div>\n",
              "    <div class=\"colab-df-buttons\">\n",
              "\n",
              "  <div class=\"colab-df-container\">\n",
              "    <button class=\"colab-df-convert\" onclick=\"convertToInteractive('df-66b46e4d-f834-4112-a7c8-dc9f949007bd')\"\n",
              "            title=\"Convert this dataframe to an interactive table.\"\n",
              "            style=\"display:none;\">\n",
              "\n",
              "  <svg xmlns=\"http://www.w3.org/2000/svg\" height=\"24px\" viewBox=\"0 -960 960 960\">\n",
              "    <path d=\"M120-120v-720h720v720H120Zm60-500h600v-160H180v160Zm220 220h160v-160H400v160Zm0 220h160v-160H400v160ZM180-400h160v-160H180v160Zm440 0h160v-160H620v160ZM180-180h160v-160H180v160Zm440 0h160v-160H620v160Z\"/>\n",
              "  </svg>\n",
              "    </button>\n",
              "\n",
              "  <style>\n",
              "    .colab-df-container {\n",
              "      display:flex;\n",
              "      gap: 12px;\n",
              "    }\n",
              "\n",
              "    .colab-df-convert {\n",
              "      background-color: #E8F0FE;\n",
              "      border: none;\n",
              "      border-radius: 50%;\n",
              "      cursor: pointer;\n",
              "      display: none;\n",
              "      fill: #1967D2;\n",
              "      height: 32px;\n",
              "      padding: 0 0 0 0;\n",
              "      width: 32px;\n",
              "    }\n",
              "\n",
              "    .colab-df-convert:hover {\n",
              "      background-color: #E2EBFA;\n",
              "      box-shadow: 0px 1px 2px rgba(60, 64, 67, 0.3), 0px 1px 3px 1px rgba(60, 64, 67, 0.15);\n",
              "      fill: #174EA6;\n",
              "    }\n",
              "\n",
              "    .colab-df-buttons div {\n",
              "      margin-bottom: 4px;\n",
              "    }\n",
              "\n",
              "    [theme=dark] .colab-df-convert {\n",
              "      background-color: #3B4455;\n",
              "      fill: #D2E3FC;\n",
              "    }\n",
              "\n",
              "    [theme=dark] .colab-df-convert:hover {\n",
              "      background-color: #434B5C;\n",
              "      box-shadow: 0px 1px 3px 1px rgba(0, 0, 0, 0.15);\n",
              "      filter: drop-shadow(0px 1px 2px rgba(0, 0, 0, 0.3));\n",
              "      fill: #FFFFFF;\n",
              "    }\n",
              "  </style>\n",
              "\n",
              "    <script>\n",
              "      const buttonEl =\n",
              "        document.querySelector('#df-66b46e4d-f834-4112-a7c8-dc9f949007bd button.colab-df-convert');\n",
              "      buttonEl.style.display =\n",
              "        google.colab.kernel.accessAllowed ? 'block' : 'none';\n",
              "\n",
              "      async function convertToInteractive(key) {\n",
              "        const element = document.querySelector('#df-66b46e4d-f834-4112-a7c8-dc9f949007bd');\n",
              "        const dataTable =\n",
              "          await google.colab.kernel.invokeFunction('convertToInteractive',\n",
              "                                                    [key], {});\n",
              "        if (!dataTable) return;\n",
              "\n",
              "        const docLinkHtml = 'Like what you see? Visit the ' +\n",
              "          '<a target=\"_blank\" href=https://colab.research.google.com/notebooks/data_table.ipynb>data table notebook</a>'\n",
              "          + ' to learn more about interactive tables.';\n",
              "        element.innerHTML = '';\n",
              "        dataTable['output_type'] = 'display_data';\n",
              "        await google.colab.output.renderOutput(dataTable, element);\n",
              "        const docLink = document.createElement('div');\n",
              "        docLink.innerHTML = docLinkHtml;\n",
              "        element.appendChild(docLink);\n",
              "      }\n",
              "    </script>\n",
              "  </div>\n",
              "\n",
              "\n",
              "<div id=\"df-b9c587c5-2958-49e8-82a8-58db052a431c\">\n",
              "  <button class=\"colab-df-quickchart\" onclick=\"quickchart('df-b9c587c5-2958-49e8-82a8-58db052a431c')\"\n",
              "            title=\"Suggest charts\"\n",
              "            style=\"display:none;\">\n",
              "\n",
              "<svg xmlns=\"http://www.w3.org/2000/svg\" height=\"24px\"viewBox=\"0 0 24 24\"\n",
              "     width=\"24px\">\n",
              "    <g>\n",
              "        <path d=\"M19 3H5c-1.1 0-2 .9-2 2v14c0 1.1.9 2 2 2h14c1.1 0 2-.9 2-2V5c0-1.1-.9-2-2-2zM9 17H7v-7h2v7zm4 0h-2V7h2v10zm4 0h-2v-4h2v4z\"/>\n",
              "    </g>\n",
              "</svg>\n",
              "  </button>\n",
              "\n",
              "<style>\n",
              "  .colab-df-quickchart {\n",
              "      --bg-color: #E8F0FE;\n",
              "      --fill-color: #1967D2;\n",
              "      --hover-bg-color: #E2EBFA;\n",
              "      --hover-fill-color: #174EA6;\n",
              "      --disabled-fill-color: #AAA;\n",
              "      --disabled-bg-color: #DDD;\n",
              "  }\n",
              "\n",
              "  [theme=dark] .colab-df-quickchart {\n",
              "      --bg-color: #3B4455;\n",
              "      --fill-color: #D2E3FC;\n",
              "      --hover-bg-color: #434B5C;\n",
              "      --hover-fill-color: #FFFFFF;\n",
              "      --disabled-bg-color: #3B4455;\n",
              "      --disabled-fill-color: #666;\n",
              "  }\n",
              "\n",
              "  .colab-df-quickchart {\n",
              "    background-color: var(--bg-color);\n",
              "    border: none;\n",
              "    border-radius: 50%;\n",
              "    cursor: pointer;\n",
              "    display: none;\n",
              "    fill: var(--fill-color);\n",
              "    height: 32px;\n",
              "    padding: 0;\n",
              "    width: 32px;\n",
              "  }\n",
              "\n",
              "  .colab-df-quickchart:hover {\n",
              "    background-color: var(--hover-bg-color);\n",
              "    box-shadow: 0 1px 2px rgba(60, 64, 67, 0.3), 0 1px 3px 1px rgba(60, 64, 67, 0.15);\n",
              "    fill: var(--button-hover-fill-color);\n",
              "  }\n",
              "\n",
              "  .colab-df-quickchart-complete:disabled,\n",
              "  .colab-df-quickchart-complete:disabled:hover {\n",
              "    background-color: var(--disabled-bg-color);\n",
              "    fill: var(--disabled-fill-color);\n",
              "    box-shadow: none;\n",
              "  }\n",
              "\n",
              "  .colab-df-spinner {\n",
              "    border: 2px solid var(--fill-color);\n",
              "    border-color: transparent;\n",
              "    border-bottom-color: var(--fill-color);\n",
              "    animation:\n",
              "      spin 1s steps(1) infinite;\n",
              "  }\n",
              "\n",
              "  @keyframes spin {\n",
              "    0% {\n",
              "      border-color: transparent;\n",
              "      border-bottom-color: var(--fill-color);\n",
              "      border-left-color: var(--fill-color);\n",
              "    }\n",
              "    20% {\n",
              "      border-color: transparent;\n",
              "      border-left-color: var(--fill-color);\n",
              "      border-top-color: var(--fill-color);\n",
              "    }\n",
              "    30% {\n",
              "      border-color: transparent;\n",
              "      border-left-color: var(--fill-color);\n",
              "      border-top-color: var(--fill-color);\n",
              "      border-right-color: var(--fill-color);\n",
              "    }\n",
              "    40% {\n",
              "      border-color: transparent;\n",
              "      border-right-color: var(--fill-color);\n",
              "      border-top-color: var(--fill-color);\n",
              "    }\n",
              "    60% {\n",
              "      border-color: transparent;\n",
              "      border-right-color: var(--fill-color);\n",
              "    }\n",
              "    80% {\n",
              "      border-color: transparent;\n",
              "      border-right-color: var(--fill-color);\n",
              "      border-bottom-color: var(--fill-color);\n",
              "    }\n",
              "    90% {\n",
              "      border-color: transparent;\n",
              "      border-bottom-color: var(--fill-color);\n",
              "    }\n",
              "  }\n",
              "</style>\n",
              "\n",
              "  <script>\n",
              "    async function quickchart(key) {\n",
              "      const quickchartButtonEl =\n",
              "        document.querySelector('#' + key + ' button');\n",
              "      quickchartButtonEl.disabled = true;  // To prevent multiple clicks.\n",
              "      quickchartButtonEl.classList.add('colab-df-spinner');\n",
              "      try {\n",
              "        const charts = await google.colab.kernel.invokeFunction(\n",
              "            'suggestCharts', [key], {});\n",
              "      } catch (error) {\n",
              "        console.error('Error during call to suggestCharts:', error);\n",
              "      }\n",
              "      quickchartButtonEl.classList.remove('colab-df-spinner');\n",
              "      quickchartButtonEl.classList.add('colab-df-quickchart-complete');\n",
              "    }\n",
              "    (() => {\n",
              "      let quickchartButtonEl =\n",
              "        document.querySelector('#df-b9c587c5-2958-49e8-82a8-58db052a431c button');\n",
              "      quickchartButtonEl.style.display =\n",
              "        google.colab.kernel.accessAllowed ? 'block' : 'none';\n",
              "    })();\n",
              "  </script>\n",
              "</div>\n",
              "\n",
              "    </div>\n",
              "  </div>\n"
            ],
            "application/vnd.google.colaboratory.intrinsic+json": {
              "type": "dataframe",
              "variable_name": "df",
              "summary": "{\n  \"name\": \"df\",\n  \"rows\": 49999,\n  \"fields\": [\n    {\n      \"column\": \"Unnamed: 0\",\n      \"properties\": {\n        \"dtype\": \"string\",\n        \"num_unique_values\": 49999,\n        \"samples\": [\n          \"33553\",\n          \"9427\",\n          \"199\"\n        ],\n        \"semantic_type\": \"\",\n        \"description\": \"\"\n      }\n    },\n    {\n      \"column\": \"User\",\n      \"properties\": {\n        \"dtype\": \"string\",\n        \"num_unique_values\": 35108,\n        \"samples\": [\n          \"feministo00\",\n          \"MJavedNaseem2\",\n          \"DrPathakAbh\"\n        ],\n        \"semantic_type\": \"\",\n        \"description\": \"\"\n      }\n    },\n    {\n      \"column\": \"Tweet\",\n      \"properties\": {\n        \"dtype\": \"string\",\n        \"num_unique_values\": 49568,\n        \"samples\": [\n          \"@artiseternall @AAmuyungesin @Ak_bh2047 @elonmusk lol why wouldn't they?  they've been amping up elon in responses for while.  people in the US have Indian names/heritage, and people living in India are aware of US politics and visa versa.\",\n          \"\\u25a0 patience, and resolve. From just two seats in 1984 Lok Sabha elections, the BJP now dominates Indian politics. It wins elections, sets the agenda, controls the narrative, wields hegemonic control over political discourse and forces the Opposition to play on its turf.\",\n          \"All India's Hate Politics and Houses Run by the name of Indian Muslims @BBCWorld @CNN\"\n        ],\n        \"semantic_type\": \"\",\n        \"description\": \"\"\n      }\n    },\n    {\n      \"column\": \"Likes\",\n      \"properties\": {\n        \"dtype\": \"number\",\n        \"std\": 243.1165720282207,\n        \"min\": 0.0,\n        \"max\": 20716.0,\n        \"num_unique_values\": 598,\n        \"samples\": [\n          1727.0,\n          446.0,\n          1483.0\n        ],\n        \"semantic_type\": \"\",\n        \"description\": \"\"\n      }\n    },\n    {\n      \"column\": \"Retweets\",\n      \"properties\": {\n        \"dtype\": \"number\",\n        \"std\": 53.452614900442356,\n        \"min\": 0.0,\n        \"max\": 6551.0,\n        \"num_unique_values\": 312,\n        \"samples\": [\n          283.0,\n          7.0,\n          32.0\n        ],\n        \"semantic_type\": \"\",\n        \"description\": \"\"\n      }\n    },\n    {\n      \"column\": \"Original_Tweet\",\n      \"properties\": {\n        \"dtype\": \"string\",\n        \"num_unique_values\": 49568,\n        \"samples\": [\n          \"@artiseternall @AAmuyungesin @Ak_bh2047 @elonmusk lol why wouldn't they?  they've been amping up elon in responses for while.  people in the US have Indian names/heritage, and people living in India are aware of US politics and visa versa.\",\n          \"\\u25a0 patience, and resolve. From just two seats in 1984 Lok Sabha elections, the BJP now dominates Indian politics. It wins elections, sets the agenda, controls the narrative, wields hegemonic control over political discourse and forces the Opposition to play on its turf.\",\n          \"All India's Hate Politics and Houses Run by the name of Indian Muslims @BBCWorld @CNN\"\n        ],\n        \"semantic_type\": \"\",\n        \"description\": \"\"\n      }\n    },\n    {\n      \"column\": \"DateTime\",\n      \"properties\": {\n        \"dtype\": \"date\",\n        \"min\": \"2022-10-15 10:28:05\",\n        \"max\": \"2023-03-29 15:42:36\",\n        \"num_unique_values\": 49820,\n        \"samples\": [\n          \"2023-01-22 01:11:41\",\n          \"2023-01-31 21:15:54\",\n          \"2022-12-14 04:39:44\"\n        ],\n        \"semantic_type\": \"\",\n        \"description\": \"\"\n      }\n    },\n    {\n      \"column\": \"date\",\n      \"properties\": {\n        \"dtype\": \"date\",\n        \"min\": \"2022-10-15\",\n        \"max\": \"2023-03-29\",\n        \"num_unique_values\": 166,\n        \"samples\": [\n          \"2022-12-19\",\n          \"2022-11-13\",\n          \"2023-01-10\"\n        ],\n        \"semantic_type\": \"\",\n        \"description\": \"\"\n      }\n    },\n    {\n      \"column\": \"month\",\n      \"properties\": {\n        \"dtype\": \"number\",\n        \"std\": 4,\n        \"min\": 1,\n        \"max\": 12,\n        \"num_unique_values\": 6,\n        \"samples\": [\n          3,\n          2,\n          10\n        ],\n        \"semantic_type\": \"\",\n        \"description\": \"\"\n      }\n    },\n    {\n      \"column\": \"year\",\n      \"properties\": {\n        \"dtype\": \"number\",\n        \"std\": 0,\n        \"min\": 2022,\n        \"max\": 2023,\n        \"num_unique_values\": 2,\n        \"samples\": [\n          2022,\n          2023\n        ],\n        \"semantic_type\": \"\",\n        \"description\": \"\"\n      }\n    },\n    {\n      \"column\": \"hour\",\n      \"properties\": {\n        \"dtype\": \"number\",\n        \"std\": 5,\n        \"min\": 0,\n        \"max\": 23,\n        \"num_unique_values\": 24,\n        \"samples\": [\n          7,\n          23\n        ],\n        \"semantic_type\": \"\",\n        \"description\": \"\"\n      }\n    }\n  ]\n}"
            }
          },
          "metadata": {},
          "execution_count": 16
        }
      ]
    },
    {
      "cell_type": "code",
      "source": [
        "# Create a function to clean the tweets. Remove profanity, unnecessary characters, spaces, and stopwords.\n",
        "\n",
        "\n",
        "# define the stopwords list\n",
        "stop_words = stopwords.words('english')\n",
        "\n",
        "def clean_tweet(tweet):\n",
        "    # convert to lower case\n",
        "    tweet = tweet.lower()\n",
        "\n",
        "    # censor profanity\n",
        "    profanity.load_censor_words()\n",
        "    tweet = profanity.censor(tweet)\n",
        "\n",
        "    # remove twitter handlers\n",
        "    tweet = re.sub('@[^\\s]+', '', tweet)\n",
        "\n",
        "    # remove hashtags\n",
        "    tweet = re.sub(r'\\B#\\S+', '', tweet)\n",
        "\n",
        "    # remove urls\n",
        "    tweet = re.sub(r\"http\\S+\", \"\", tweet)\n",
        "\n",
        "    # remove special characters and punctuations\n",
        "    tweet = re.sub(r'\\W', ' ', tweet)\n",
        "\n",
        "    # remove single characters except for 'a' and 'i'\n",
        "    tweet = re.sub(r'\\s+[a-hj-z]\\s+', ' ', tweet)\n",
        "    tweet = re.sub(r'\\s+i\\s+', ' I ', tweet)\n",
        "    tweet = re.sub(r'\\s+a\\s+', ' a ', tweet)\n",
        "\n",
        "    # substitute multiple spaces with single space\n",
        "    tweet = re.sub(r'\\s+', ' ', tweet, flags=re.I)\n",
        "\n",
        "    # remove stop words\n",
        "    tweet = ' '.join([word for word in tweet.split() if word not in stop_words])\n",
        "\n",
        "    return tweet\n",
        "\n"
      ],
      "metadata": {
        "execution": {
          "iopub.status.busy": "2023-03-30T19:23:19.987437Z",
          "iopub.execute_input": "2023-03-30T19:23:19.987946Z",
          "iopub.status.idle": "2023-03-30T19:23:19.997661Z",
          "shell.execute_reply.started": "2023-03-30T19:23:19.987917Z",
          "shell.execute_reply": "2023-03-30T19:23:19.996359Z"
        },
        "trusted": true,
        "id": "HKkMlESRb8m4"
      },
      "execution_count": 17,
      "outputs": []
    },
    {
      "cell_type": "code",
      "source": [
        "# df = df.sample(n=1000, replace=True)\n",
        "# df=df.head(100)\n",
        "\n",
        "# df.shape"
      ],
      "metadata": {
        "execution": {
          "iopub.status.busy": "2023-03-30T19:23:19.999097Z",
          "iopub.execute_input": "2023-03-30T19:23:19.999423Z",
          "iopub.status.idle": "2023-03-30T19:23:20.00771Z",
          "shell.execute_reply.started": "2023-03-30T19:23:19.999392Z",
          "shell.execute_reply": "2023-03-30T19:23:20.006646Z"
        },
        "trusted": true,
        "id": "zoyilxahb8m5"
      },
      "execution_count": 18,
      "outputs": []
    },
    {
      "cell_type": "code",
      "source": [
        "df['Tweet'] = df['Tweet'].apply(clean_tweet)"
      ],
      "metadata": {
        "execution": {
          "iopub.status.busy": "2023-03-30T19:23:20.009446Z",
          "iopub.execute_input": "2023-03-30T19:23:20.009834Z",
          "iopub.status.idle": "2023-03-30T19:23:34.64595Z",
          "shell.execute_reply.started": "2023-03-30T19:23:20.009804Z",
          "shell.execute_reply": "2023-03-30T19:23:34.644967Z"
        },
        "trusted": true,
        "id": "VPWLiyMNb8m5"
      },
      "execution_count": null,
      "outputs": []
    },
    {
      "cell_type": "code",
      "source": [
        "df.head()"
      ],
      "metadata": {
        "execution": {
          "iopub.status.busy": "2023-03-30T19:23:34.647256Z",
          "iopub.execute_input": "2023-03-30T19:23:34.647523Z",
          "iopub.status.idle": "2023-03-30T19:23:34.661831Z",
          "shell.execute_reply.started": "2023-03-30T19:23:34.647496Z",
          "shell.execute_reply": "2023-03-30T19:23:34.660874Z"
        },
        "trusted": true,
        "id": "nnp6xTvRb8m5",
        "outputId": "a8ada566-b89f-4f44-91c5-078cc641e33d"
      },
      "execution_count": null,
      "outputs": [
        {
          "execution_count": 33,
          "output_type": "execute_result",
          "data": {
            "text/plain": "  Unnamed: 0          User                                              Tweet  \\\n0          0   AnandPatni8  respected indian citizens namaskaar I original...   \n1          1      dhinamum  respected indian citizens namaskaar I original...   \n2          2  PrincetonCGI  1 meet filmmaker prakash jha new jersey talkin...   \n3          3  RishiJoeSanu  would politicians stop using religion politics...   \n4          4  itweetsensee  state level president knows policy pm union mi...   \n\n   Likes  Retweets                                     Original_Tweet  \\\n0    0.0       0.0  @vinodkapri @RahulGandhi Respected Indian Citi...   \n1    0.0       0.0  *Respected Indian Citizens,* Namaskaar I Am Th...   \n2    0.0       0.0  1/n-Meet Filmmaker Prakash Jha in New Jersey t...   \n3    0.0       0.0  @MrinalWahal Why would politicians stop using ...   \n4    0.0       0.0  @annamalai_k @narendramodi A state level presi...   \n\n             DateTime        date  month  year  hour  \n0 2023-03-29 15:42:36  2023-03-29      3  2023    15  \n1 2023-03-29 15:42:05  2023-03-29      3  2023    15  \n2 2023-03-29 15:34:29  2023-03-29      3  2023    15  \n3 2023-03-29 15:31:43  2023-03-29      3  2023    15  \n4 2023-03-29 15:26:48  2023-03-29      3  2023    15  ",
            "text/html": "<div>\n<style scoped>\n    .dataframe tbody tr th:only-of-type {\n        vertical-align: middle;\n    }\n\n    .dataframe tbody tr th {\n        vertical-align: top;\n    }\n\n    .dataframe thead th {\n        text-align: right;\n    }\n</style>\n<table border=\"1\" class=\"dataframe\">\n  <thead>\n    <tr style=\"text-align: right;\">\n      <th></th>\n      <th>Unnamed: 0</th>\n      <th>User</th>\n      <th>Tweet</th>\n      <th>Likes</th>\n      <th>Retweets</th>\n      <th>Original_Tweet</th>\n      <th>DateTime</th>\n      <th>date</th>\n      <th>month</th>\n      <th>year</th>\n      <th>hour</th>\n    </tr>\n  </thead>\n  <tbody>\n    <tr>\n      <th>0</th>\n      <td>0</td>\n      <td>AnandPatni8</td>\n      <td>respected indian citizens namaskaar I original...</td>\n      <td>0.0</td>\n      <td>0.0</td>\n      <td>@vinodkapri @RahulGandhi Respected Indian Citi...</td>\n      <td>2023-03-29 15:42:36</td>\n      <td>2023-03-29</td>\n      <td>3</td>\n      <td>2023</td>\n      <td>15</td>\n    </tr>\n    <tr>\n      <th>1</th>\n      <td>1</td>\n      <td>dhinamum</td>\n      <td>respected indian citizens namaskaar I original...</td>\n      <td>0.0</td>\n      <td>0.0</td>\n      <td>*Respected Indian Citizens,* Namaskaar I Am Th...</td>\n      <td>2023-03-29 15:42:05</td>\n      <td>2023-03-29</td>\n      <td>3</td>\n      <td>2023</td>\n      <td>15</td>\n    </tr>\n    <tr>\n      <th>2</th>\n      <td>2</td>\n      <td>PrincetonCGI</td>\n      <td>1 meet filmmaker prakash jha new jersey talkin...</td>\n      <td>0.0</td>\n      <td>0.0</td>\n      <td>1/n-Meet Filmmaker Prakash Jha in New Jersey t...</td>\n      <td>2023-03-29 15:34:29</td>\n      <td>2023-03-29</td>\n      <td>3</td>\n      <td>2023</td>\n      <td>15</td>\n    </tr>\n    <tr>\n      <th>3</th>\n      <td>3</td>\n      <td>RishiJoeSanu</td>\n      <td>would politicians stop using religion politics...</td>\n      <td>0.0</td>\n      <td>0.0</td>\n      <td>@MrinalWahal Why would politicians stop using ...</td>\n      <td>2023-03-29 15:31:43</td>\n      <td>2023-03-29</td>\n      <td>3</td>\n      <td>2023</td>\n      <td>15</td>\n    </tr>\n    <tr>\n      <th>4</th>\n      <td>4</td>\n      <td>itweetsensee</td>\n      <td>state level president knows policy pm union mi...</td>\n      <td>0.0</td>\n      <td>0.0</td>\n      <td>@annamalai_k @narendramodi A state level presi...</td>\n      <td>2023-03-29 15:26:48</td>\n      <td>2023-03-29</td>\n      <td>3</td>\n      <td>2023</td>\n      <td>15</td>\n    </tr>\n  </tbody>\n</table>\n</div>"
          },
          "metadata": {}
        }
      ]
    },
    {
      "cell_type": "markdown",
      "source": [
        "<a id=\"section-six\"></a>\n",
        "# 😐Sentiment Analysis"
      ],
      "metadata": {
        "id": "QizQidwCb8m6"
      }
    },
    {
      "cell_type": "code",
      "source": [
        "# Define the sentiment objects using TextBlob\n",
        "\n",
        "sentiment_objects = [TextBlob(tweet) for tweet in df['Tweet']]\n",
        "\n",
        "# Create a list of polarity values and tweet text\n",
        "sentiment_values = [[tweet.sentiment.polarity, str(tweet)] for tweet in sentiment_objects]\n",
        "\n",
        "\n",
        "# Create a dataframe of each tweet against its polarity\n",
        "sentiment_df = pd.DataFrame(sentiment_values, columns=[\"polarity\", \"tweet\"])\n",
        "\n",
        "df['Polarity']=sentiment_df['polarity']"
      ],
      "metadata": {
        "execution": {
          "iopub.status.busy": "2023-03-30T19:23:34.663325Z",
          "iopub.execute_input": "2023-03-30T19:23:34.663669Z",
          "iopub.status.idle": "2023-03-30T19:23:34.695277Z",
          "shell.execute_reply.started": "2023-03-30T19:23:34.663642Z",
          "shell.execute_reply": "2023-03-30T19:23:34.694268Z"
        },
        "trusted": true,
        "id": "X6Jz2Aucb8m6"
      },
      "execution_count": null,
      "outputs": []
    },
    {
      "cell_type": "code",
      "source": [
        "# Create the new column using a lambda function and apply() to classify the tweets as Positive, Negative, or Neutral.\n",
        "df['Sentiment'] = df['Polarity'].apply(lambda x: 'Positive' if x > 0 else 'Negative' if x < 0 else 'Neutral')"
      ],
      "metadata": {
        "execution": {
          "iopub.status.busy": "2023-03-30T19:23:34.696608Z",
          "iopub.execute_input": "2023-03-30T19:23:34.696886Z",
          "iopub.status.idle": "2023-03-30T19:23:34.703668Z",
          "shell.execute_reply.started": "2023-03-30T19:23:34.696861Z",
          "shell.execute_reply": "2023-03-30T19:23:34.702385Z"
        },
        "trusted": true,
        "id": "jjN2PjoFb8m6"
      },
      "execution_count": null,
      "outputs": []
    },
    {
      "cell_type": "code",
      "source": [
        "df.head()"
      ],
      "metadata": {
        "execution": {
          "iopub.status.busy": "2023-03-30T19:23:34.705287Z",
          "iopub.execute_input": "2023-03-30T19:23:34.705662Z",
          "iopub.status.idle": "2023-03-30T19:23:34.723798Z",
          "shell.execute_reply.started": "2023-03-30T19:23:34.705629Z",
          "shell.execute_reply": "2023-03-30T19:23:34.722834Z"
        },
        "trusted": true,
        "id": "h0dt7YLvb8m7",
        "outputId": "890581ae-f028-4174-d6ef-57e5023cb288"
      },
      "execution_count": null,
      "outputs": [
        {
          "execution_count": 36,
          "output_type": "execute_result",
          "data": {
            "text/plain": "  Unnamed: 0          User                                              Tweet  \\\n0          0   AnandPatni8  respected indian citizens namaskaar I original...   \n1          1      dhinamum  respected indian citizens namaskaar I original...   \n2          2  PrincetonCGI  1 meet filmmaker prakash jha new jersey talkin...   \n3          3  RishiJoeSanu  would politicians stop using religion politics...   \n4          4  itweetsensee  state level president knows policy pm union mi...   \n\n   Likes  Retweets                                     Original_Tweet  \\\n0    0.0       0.0  @vinodkapri @RahulGandhi Respected Indian Citi...   \n1    0.0       0.0  *Respected Indian Citizens,* Namaskaar I Am Th...   \n2    0.0       0.0  1/n-Meet Filmmaker Prakash Jha in New Jersey t...   \n3    0.0       0.0  @MrinalWahal Why would politicians stop using ...   \n4    0.0       0.0  @annamalai_k @narendramodi A state level presi...   \n\n             DateTime        date  month  year  hour  Polarity Sentiment  \n0 2023-03-29 15:42:36  2023-03-29      3  2023    15 -0.062500  Negative  \n1 2023-03-29 15:42:05  2023-03-29      3  2023    15 -0.062500  Negative  \n2 2023-03-29 15:34:29  2023-03-29      3  2023    15  0.173232  Positive  \n3 2023-03-29 15:31:43  2023-03-29      3  2023    15  0.000000   Neutral  \n4 2023-03-29 15:26:48  2023-03-29      3  2023    15  0.214286  Positive  ",
            "text/html": "<div>\n<style scoped>\n    .dataframe tbody tr th:only-of-type {\n        vertical-align: middle;\n    }\n\n    .dataframe tbody tr th {\n        vertical-align: top;\n    }\n\n    .dataframe thead th {\n        text-align: right;\n    }\n</style>\n<table border=\"1\" class=\"dataframe\">\n  <thead>\n    <tr style=\"text-align: right;\">\n      <th></th>\n      <th>Unnamed: 0</th>\n      <th>User</th>\n      <th>Tweet</th>\n      <th>Likes</th>\n      <th>Retweets</th>\n      <th>Original_Tweet</th>\n      <th>DateTime</th>\n      <th>date</th>\n      <th>month</th>\n      <th>year</th>\n      <th>hour</th>\n      <th>Polarity</th>\n      <th>Sentiment</th>\n    </tr>\n  </thead>\n  <tbody>\n    <tr>\n      <th>0</th>\n      <td>0</td>\n      <td>AnandPatni8</td>\n      <td>respected indian citizens namaskaar I original...</td>\n      <td>0.0</td>\n      <td>0.0</td>\n      <td>@vinodkapri @RahulGandhi Respected Indian Citi...</td>\n      <td>2023-03-29 15:42:36</td>\n      <td>2023-03-29</td>\n      <td>3</td>\n      <td>2023</td>\n      <td>15</td>\n      <td>-0.062500</td>\n      <td>Negative</td>\n    </tr>\n    <tr>\n      <th>1</th>\n      <td>1</td>\n      <td>dhinamum</td>\n      <td>respected indian citizens namaskaar I original...</td>\n      <td>0.0</td>\n      <td>0.0</td>\n      <td>*Respected Indian Citizens,* Namaskaar I Am Th...</td>\n      <td>2023-03-29 15:42:05</td>\n      <td>2023-03-29</td>\n      <td>3</td>\n      <td>2023</td>\n      <td>15</td>\n      <td>-0.062500</td>\n      <td>Negative</td>\n    </tr>\n    <tr>\n      <th>2</th>\n      <td>2</td>\n      <td>PrincetonCGI</td>\n      <td>1 meet filmmaker prakash jha new jersey talkin...</td>\n      <td>0.0</td>\n      <td>0.0</td>\n      <td>1/n-Meet Filmmaker Prakash Jha in New Jersey t...</td>\n      <td>2023-03-29 15:34:29</td>\n      <td>2023-03-29</td>\n      <td>3</td>\n      <td>2023</td>\n      <td>15</td>\n      <td>0.173232</td>\n      <td>Positive</td>\n    </tr>\n    <tr>\n      <th>3</th>\n      <td>3</td>\n      <td>RishiJoeSanu</td>\n      <td>would politicians stop using religion politics...</td>\n      <td>0.0</td>\n      <td>0.0</td>\n      <td>@MrinalWahal Why would politicians stop using ...</td>\n      <td>2023-03-29 15:31:43</td>\n      <td>2023-03-29</td>\n      <td>3</td>\n      <td>2023</td>\n      <td>15</td>\n      <td>0.000000</td>\n      <td>Neutral</td>\n    </tr>\n    <tr>\n      <th>4</th>\n      <td>4</td>\n      <td>itweetsensee</td>\n      <td>state level president knows policy pm union mi...</td>\n      <td>0.0</td>\n      <td>0.0</td>\n      <td>@annamalai_k @narendramodi A state level presi...</td>\n      <td>2023-03-29 15:26:48</td>\n      <td>2023-03-29</td>\n      <td>3</td>\n      <td>2023</td>\n      <td>15</td>\n      <td>0.214286</td>\n      <td>Positive</td>\n    </tr>\n  </tbody>\n</table>\n</div>"
          },
          "metadata": {}
        }
      ]
    },
    {
      "cell_type": "code",
      "source": [
        "# Count the number of occurrences for each sentiment\n",
        "sentiment_counts = df['Sentiment'].value_counts()\n",
        "# display the number of Twitter users who have expressed a positive sentiment,a negative sentiment and a neutral sentiment about the given topic.\n",
        "positive_percent = sentiment_counts['Positive'] / len(df) * 100\n",
        "negative_percent = sentiment_counts['Negative'] / len(df) * 100\n",
        "neutral_percent = sentiment_counts['Neutral'] / len(df) * 100\n",
        "print(\"%.2f percent of twitter users feel positive.\" %positive_percent)\n",
        "\n",
        "print(\"%.2f percent of twitter users feel negative.\"%negative_percent)\n",
        "\n",
        "print(\"%.2f percent of twitter users feel neutral.\"%neutral_percent)"
      ],
      "metadata": {
        "execution": {
          "iopub.status.busy": "2023-03-30T19:23:34.725399Z",
          "iopub.execute_input": "2023-03-30T19:23:34.725787Z",
          "iopub.status.idle": "2023-03-30T19:23:34.736926Z",
          "shell.execute_reply.started": "2023-03-30T19:23:34.725752Z",
          "shell.execute_reply": "2023-03-30T19:23:34.735809Z"
        },
        "trusted": true,
        "id": "HpFKLDQxb8m7",
        "outputId": "d36a5b8b-dfba-47f4-e134-5164e0730b95"
      },
      "execution_count": null,
      "outputs": [
        {
          "name": "stdout",
          "text": "32.00 percent of twitter users feel positive.\n36.00 percent of twitter users feel negative.\n32.00 percent of twitter users feel neutral.\n",
          "output_type": "stream"
        }
      ]
    }
  ]
}